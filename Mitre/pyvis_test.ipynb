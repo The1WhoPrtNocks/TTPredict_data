{
 "cells": [
  {
   "cell_type": "code",
   "execution_count": 4,
   "id": "f0314f52-ba40-4d73-885d-5380722f31c4",
   "metadata": {},
   "outputs": [],
   "source": [
    "from pyvis.network import Network\n",
    "\n",
    "net = Network()\n",
    "\n",
    "net.add_node(1, label='Alex')\n",
    "net.add_node(2, label='Cathy')\n",
    "\n",
    "net.show('nodes.html')"
   ]
  },
  {
   "cell_type": "code",
   "execution_count": 6,
   "id": "15f8953c-7381-4ec4-9076-072a41c60c26",
   "metadata": {},
   "outputs": [
    {
     "data": {
      "text/html": [
       "\n",
       "        <iframe\n",
       "            width=\"700\"\n",
       "            height=\"600\"\n",
       "            src=\"./nodes.html\"\n",
       "            frameborder=\"0\"\n",
       "            allowfullscreen\n",
       "        ></iframe>\n",
       "        "
      ],
      "text/plain": [
       "<IPython.lib.display.IFrame at 0x1ba7c525970>"
      ]
     },
     "execution_count": 6,
     "metadata": {},
     "output_type": "execute_result"
    }
   ],
   "source": [
    "from IPython.display import IFrame\n",
    "\n",
    "IFrame(src='./nodes.html', width=700, height=600)"
   ]
  },
  {
   "cell_type": "code",
   "execution_count": 7,
   "id": "281808f0-13b1-41f6-ad55-40138aef10c2",
   "metadata": {},
   "outputs": [],
   "source": [
    "net.add_nodes([3, 4, 5, 6], \n",
    "              label=['Michael', 'Ben', 'Oliver', 'Olivia'],\n",
    "              color=['#3da831', '#9a31a8', '#3155a8', '#eb4034'])\n",
    "net.show('list_of_nodes_with_color.html')"
   ]
  },
  {
   "cell_type": "code",
   "execution_count": 8,
   "id": "7074ff05-b34d-4852-a7e6-570729f7ea07",
   "metadata": {},
   "outputs": [
    {
     "data": {
      "text/html": [
       "\n",
       "        <iframe\n",
       "            width=\"700\"\n",
       "            height=\"600\"\n",
       "            src=\"./list_of_nodes_with_color.html\"\n",
       "            frameborder=\"0\"\n",
       "            allowfullscreen\n",
       "        ></iframe>\n",
       "        "
      ],
      "text/plain": [
       "<IPython.lib.display.IFrame at 0x1ba7e721e50>"
      ]
     },
     "execution_count": 8,
     "metadata": {},
     "output_type": "execute_result"
    }
   ],
   "source": [
    "IFrame(src='./list_of_nodes_with_color.html', width=700, height=600)"
   ]
  },
  {
   "cell_type": "code",
   "execution_count": null,
   "id": "65e3d0cb-880c-4800-b947-cc9bc04b6b88",
   "metadata": {},
   "outputs": [],
   "source": []
  }
 ],
 "metadata": {
  "kernelspec": {
   "display_name": "Python 3",
   "language": "python",
   "name": "python3"
  },
  "language_info": {
   "codemirror_mode": {
    "name": "ipython",
    "version": 3
   },
   "file_extension": ".py",
   "mimetype": "text/x-python",
   "name": "python",
   "nbconvert_exporter": "python",
   "pygments_lexer": "ipython3",
   "version": "3.8.8"
  }
 },
 "nbformat": 4,
 "nbformat_minor": 5
}
